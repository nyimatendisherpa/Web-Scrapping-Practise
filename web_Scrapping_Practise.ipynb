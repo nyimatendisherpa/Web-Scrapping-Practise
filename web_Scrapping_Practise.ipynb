{
  "nbformat": 4,
  "nbformat_minor": 0,
  "metadata": {
    "colab": {
      "name": "web Scrapping  Practise ",
      "provenance": [],
      "collapsed_sections": [],
      "toc_visible": true
    },
    "kernelspec": {
      "name": "python3",
      "display_name": "Python 3"
    },
    "language_info": {
      "name": "python"
    }
  },
  "cells": [
    {
      "cell_type": "markdown",
      "source": [
        "Task  to do for the given url=\"https://www.pythonscraping.com/pages/warandpeace.html\"\n",
        "1)extract h1 and h2\n",
        "2)extract all the text that are in color red\n",
        "3)ectract the green color texts\n",
        "4)"
      ],
      "metadata": {
        "id": "X2W36A4_uYD8"
      }
    },
    {
      "cell_type": "code",
      "source": [
        "import requests\n",
        "from bs4 import BeautifulSoup\n",
        "url=\"https://www.pythonscraping.com/pages/warandpeace.html\"\n",
        "assign=requests.get(url)\n",
        "print(assign)"
      ],
      "metadata": {
        "colab": {
          "base_uri": "https://localhost:8080/"
        },
        "id": "ukfxTRAqumPH",
        "outputId": "e02e47e4-02e2-4772-e5dd-02c1c8bac7ef"
      },
      "execution_count": null,
      "outputs": [
        {
          "output_type": "stream",
          "name": "stdout",
          "text": [
            "<Response [200]>\n"
          ]
        }
      ]
    },
    {
      "cell_type": "code",
      "source": [
        "print(\"this is text section:\",assign.text)"
      ],
      "metadata": {
        "colab": {
          "base_uri": "https://localhost:8080/"
        },
        "id": "XTSEatcgvbO9",
        "outputId": "f0b0b2cf-8136-4778-efbb-76ece5e669b3"
      },
      "execution_count": null,
      "outputs": [
        {
          "output_type": "stream",
          "name": "stdout",
          "text": [
            "this is text section: <html>\n",
            "<head>\n",
            "<style>\n",
            ".green{\n",
            "\tcolor:#55ff55;\n",
            "}\n",
            ".red{\n",
            "\tcolor:#ff5555;\n",
            "}\n",
            "#text{\n",
            "\twidth:50%;\n",
            "}\n",
            "</style>\n",
            "</head>\n",
            "<body>\n",
            "<h1>War and Peace</h1>\n",
            "<h2>Chapter 1</h2>\n",
            "<div id=\"text\">\n",
            "\"<span class=\"red\">Well, Prince, so Genoa and Lucca are now just family estates of the\n",
            "Buonapartes. But I warn you, if you don't tell me that this means war,\n",
            "if you still try to defend the infamies and horrors perpetrated by\n",
            "that Antichrist- I really believe he is Antichrist- I will have\n",
            "nothing more to do with you and you are no longer my friend, no longer\n",
            "my 'faithful slave,' as you call yourself! But how do you do? I see\n",
            "I have frightened you- sit down and tell me all the news.</span>\"\n",
            "<p/>\n",
            "It was in July, 1805, and the speaker was the well-known <span class=\"green\">Anna\n",
            "Pavlovna Scherer</span>, maid of honor and favorite of the <span class=\"green\">Empress Marya\n",
            "Fedorovna</span>. With these words she greeted <span class=\"green\">Prince Vasili Kuragin</span>, a man\n",
            "of high rank and importance, who was the first to arrive at her\n",
            "reception. <span class=\"green\">Anna Pavlovna</span> had had a cough for some days. She was, as\n",
            "she said, suffering from la grippe; grippe being then a new word in\n",
            "<span class=\"green\">St. Petersburg</span>, used only by the elite.\n",
            "<p/>\n",
            "All her invitations without exception, written in French, and\n",
            "delivered by a scarlet-liveried footman that morning, ran as follows:\n",
            "<p/>\n",
            "\"<span class=\"red\">If you have nothing better to do, Count [or Prince], and if the\n",
            "prospect of spending an evening with a poor invalid is not too\n",
            "terrible, I shall be very charmed to see you tonight between 7 and 10-\n",
            "Annette Scherer.</span>\"\n",
            "<p/>\n",
            "\"<span class=\"red\">Heavens! what a virulent attack!</span>\" replied <span class=\"green\">the prince</span>, not in the\n",
            "least disconcerted by this reception. He had just entered, wearing\n",
            "an embroidered court uniform, knee breeches, and shoes, and had\n",
            "stars on his breast and a serene expression on his flat face. He spoke\n",
            "in that refined French in which our grandfathers not only spoke but\n",
            "thought, and with the gentle, patronizing intonation natural to a\n",
            "man of importance who had grown old in society and at court. He went\n",
            "up to <span class=\"green\">Anna Pavlovna</span>, kissed her hand, presenting to her his bald,\n",
            "scented, and shining head, and complacently seated himself on the\n",
            "sofa.\n",
            "<p/>\n",
            "\"<span class=\"red\">First of all, dear friend, tell me how you are. Set your friend's\n",
            "mind at rest,</span>\" said he without altering his tone, beneath the\n",
            "politeness and affected sympathy of which indifference and even\n",
            "irony could be discerned.\n",
            "<p/>\n",
            "\"<span class=\"red\">Can one be well while suffering morally? Can one be calm in times\n",
            "like these if one has any feeling?</span>\" said <span class=\"green\">Anna Pavlovna</span>. \"<span class=\"red\">You are\n",
            "staying the whole evening, I hope?</span>\"\n",
            "<p/>\n",
            "\"<span class=\"red\">And the fete at the English ambassador's? Today is Wednesday. I\n",
            "must put in an appearance there,</span>\" said <span class=\"green\">the prince</span>. \"<span class=\"red\">My daughter is\n",
            "coming for me to take me there.</span>\"\n",
            "<p/>\n",
            "\"<span class=\"red\">I thought today's fete had been canceled. I confess all these\n",
            "festivities and fireworks are becoming wearisome.</span>\"\n",
            "<p/>\n",
            "\"<span class=\"red\">If they had known that you wished it, the entertainment would\n",
            "have been put off,</span>\" said <span class=\"green\">the prince</span>, who, like a wound-up clock, by\n",
            "force of habit said things he did not even wish to be believed.\n",
            "<p/>\n",
            "\"<span class=\"red\">Don't tease! Well, and what has been decided about Novosiltsev's\n",
            "dispatch? You know everything.</span>\"\n",
            "<p/>\n",
            "\"<span class=\"red\">What can one say about it?</span>\" replied <span class=\"green\">the prince</span> in a cold,\n",
            "listless tone. \"<span class=\"red\">What has been decided? They have decided that\n",
            "Buonaparte has burnt his boats, and I believe that we are ready to\n",
            "burn ours.</span>\"\n",
            "<p/>\n",
            "<span class=\"green\">Prince Vasili</span> always spoke languidly, like an actor repeating a\n",
            "stale part. <span class=\"green\">Anna Pavlovna</span> Scherer on the contrary, despite her forty\n",
            "years, overflowed with animation and impulsiveness. To be an\n",
            "enthusiast had become her social vocation and, sometimes even when she\n",
            "did not feel like it, she became enthusiastic in order not to\n",
            "disappoint the expectations of those who knew her. The subdued smile\n",
            "which, though it did not suit her faded features, always played\n",
            "round her lips expressed, as in a spoiled child, a continual\n",
            "consciousness of her charming defect, which she neither wished, nor\n",
            "could, nor considered it necessary, to correct.\n",
            "<p/>\n",
            "In the midst of a conversation on political matters <span class=\"green\">Anna Pavlovna</span>\n",
            "burst out:\n",
            "<p/>\n",
            "\"<span class=\"red\">Oh, don't speak to me of Austria. Perhaps I don't understand\n",
            "things, but Austria never has wished, and does not wish, for war.\n",
            "She is betraying us! Russia alone must save Europe. Our gracious\n",
            "sovereign recognizes his high vocation and will be true to it. That is\n",
            "the one thing I have faith in! Our good and wonderful sovereign has to\n",
            "perform the noblest role on earth, and he is so virtuous and noble\n",
            "that God will not forsake him. He will fulfill his vocation and\n",
            "crush the hydra of revolution, which has become more terrible than\n",
            "ever in the person of this murderer and villain! We alone must\n",
            "avenge the blood of the just one.... Whom, I ask you, can we rely\n",
            "on?... England with her commercial spirit will not and cannot\n",
            "understand the Emperor Alexander's loftiness of soul. She has\n",
            "refused to evacuate Malta. She wanted to find, and still seeks, some\n",
            "secret motive in our actions. What answer did Novosiltsev get? None.\n",
            "The English have not understood and cannot understand the\n",
            "self-abnegation of our Emperor who wants nothing for himself, but only\n",
            "desires the good of mankind. And what have they promised? Nothing! And\n",
            "what little they have promised they will not perform! Prussia has\n",
            "always declared that Buonaparte is invincible, and that all Europe\n",
            "is powerless before him.... And I don't believe a word that Hardenburg\n",
            "says, or Haugwitz either. This famous Prussian neutrality is just a\n",
            "trap. I have faith only in God and the lofty destiny of our adored\n",
            "monarch. He will save Europe!</span>\"\n",
            "<p/>\n",
            "She suddenly paused, smiling at her own impetuosity.\n",
            "<p/>\n",
            "\"<span class=\"red\">I think,</span>\" said <span class=\"green\">the prince</span> with a smile, \"<span class=\"red\">that if you had been\n",
            "sent instead of our dear <span class=\"green\">Wintzingerode</span> you would have captured the\n",
            "<span class=\"green\">King of Prussia</span>'s consent by assault. You are so eloquent. Will you\n",
            "give me a cup of tea?</span>\"\n",
            "<p/>\n",
            "\"<span class=\"red\">In a moment. A propos,</span>\" she added, becoming calm again, \"<span class=\"red\">I am\n",
            "expecting two very interesting men tonight, <span class=\"green\">le Vicomte de Mortemart</span>,\n",
            "who is connected with the <span class=\"green\">Montmorencys</span> through the <span class=\"green\">Rohans</span>, one of\n",
            "the best French families. He is one of the genuine emigres, the good\n",
            "ones. And also the <span class=\"green\">Abbe Morio</span>. Do you know that profound thinker? He\n",
            "has been received by <span class=\"green\">the Emperor</span>. Had you heard?</span>\"\n",
            "<p/>\n",
            "\"<span class=\"red\">I shall be delighted to meet them,</span>\" said <span class=\"green\">the prince</span>. \"<span class=\"red\">But tell me,</span>\"\n",
            "he added with studied carelessness as if it had only just occurred\n",
            "to him, though the question he was about to ask was the chief motive\n",
            "of his visit, \"<span class=\"red\">is it true that the Dowager Empress wants Baron Funke\n",
            "to be appointed first secretary at Vienna? The baron by all accounts\n",
            "is a poor creature.</span>\"\n",
            "<p/>\n",
            "<span class=\"green\">Prince Vasili</span> wished to obtain this post for his son, but others\n",
            "were trying through the <span class=\"green\">Dowager Empress Marya Fedorovna</span> to secure it\n",
            "for <span class=\"green\">the baron</span>.\n",
            "<p/>\n",
            "<span class=\"green\">Anna Pavlovna</span> almost closed her eyes to indicate that neither she\n",
            "nor anyone else had a right to criticize what <span class=\"green\">the Empress</span> desired or\n",
            "was pleased with.\n",
            "<p/>\n",
            "\"<span class=\"red\">Baron Funke has been recommended to the Dowager Empress by her\n",
            "sister,</span>\" was all she said, in a dry and mournful tone.\n",
            "<p/>\n",
            "As she named <span class=\"green\">the Empress</span>, <span class=\"green\">Anna Pavlovna's</span> face suddenly assumed an\n",
            "expression of profound and sincere devotion and respect mingled with\n",
            "sadness, and this occurred every time she mentioned her illustrious\n",
            "patroness. She added that <span class=\"green\">Her Majesty</span> had deigned to show <span class=\"green\">Baron\n",
            "Funke</span>, and again her face clouded over with sadness.\n",
            "<p/>\n",
            "<span class=\"green\">The prince</span> was silent and looked indifferent. But, with the\n",
            "womanly and courtierlike quickness and tact habitual to her, <span class=\"green\">Anna\n",
            "Pavlovna</span> wished both to rebuke him (for daring to speak he had done of\n",
            "a man recommended to <span class=\"green\">the Empress</span>) and at the same time to console him,\n",
            "so she said:\n",
            "<p/>\n",
            "\"<span class=\"red\">Now about your family. Do you know that since your daughter came\n",
            "out everyone has been enraptured by her? They say she is amazingly\n",
            "beautiful.</span>\"\n",
            "<p/>\n",
            "<span class=\"green\">The prince</span> bowed to signify his respect and gratitude.\n",
            "<p/>\n",
            "\"<span class=\"red\">I often think,</span>\" she continued after a short pause, drawing nearer\n",
            "to the prince and smiling amiably at him as if to show that\n",
            "political and social topics were ended and the time had come for\n",
            "intimate conversation- \"<span class=\"red\">I often think how unfairly sometimes the\n",
            "joys of life are distributed. Why has fate given you two such splendid\n",
            "children? I don't speak of <span class=\"green\">Anatole</span>, your youngest. I don't like\n",
            "him,</span>\" she added in a tone admitting of no rejoinder and raising her\n",
            "eyebrows. \"<span class=\"red\">Two such charming children. And really you appreciate\n",
            "them less than anyone, and so you don't deserve to have them.</span>\"\n",
            "<p/>\n",
            "And she smiled her ecstatic smile.\n",
            "<p/>\n",
            "\"<span class=\"red\">I can't help it,</span>\" said <span class=\"green\">the prince</span>. \"<span class=\"red\">Lavater would have said I\n",
            "lack the bump of paternity.</span>\"\n",
            "<p/>\n",
            "\"<span class=\"red\">Don't joke; I mean to have a serious talk with you. Do you know I\n",
            "am dissatisfied with your younger son? Between ourselves</span>\" (and her\n",
            "face assumed its melancholy expression), \"<span class=\"red\">he was mentioned at Her\n",
            "Majesty's and you were pitied....</span>\"\n",
            "<p/>\n",
            "<span class=\"green\">The prince</span> answered nothing, but she looked at him significantly,\n",
            "awaiting a reply. He frowned.\n",
            "<p/>\n",
            "\"<span class=\"red\">What would you have me do?</span>\" he said at last. \"<span class=\"red\">You know I did all\n",
            "a father could for their education, and they have both turned out\n",
            "fools. Hippolyte is at least a quiet fool, but Anatole is an active\n",
            "one. That is the only difference between them.</span>\" He said this smiling\n",
            "in a way more natural and animated than usual, so that the wrinkles\n",
            "round his mouth very clearly revealed something unexpectedly coarse\n",
            "and unpleasant.\n",
            "<p/>\n",
            "\"<span class=\"red\">And why are children born to such men as you? If you were not a\n",
            "father there would be nothing I could reproach you with,</span>\" said <span class=\"green\">Anna\n",
            "Pavlovna</span>, looking up pensively.\n",
            "<p/>\n",
            "\"<span class=\"red\">I am your faithful slave and to you alone I can confess that my\n",
            "children are the bane of my life. It is the cross I have to bear. That\n",
            "is how I explain it to myself. It can't be helped!</span>\"\n",
            "<p/>\n",
            "He said no more, but expressed his resignation to cruel fate by a\n",
            "gesture. <span class=\"green\">Anna Pavlovna</span> meditated.\n",
            "</div>\n",
            "</body>\n",
            "</html>\n",
            "\n"
          ]
        }
      ]
    },
    {
      "cell_type": "code",
      "source": [
        "task=BeautifulSoup(assign.text,(\"html.parser\"))\n",
        "task"
      ],
      "metadata": {
        "colab": {
          "base_uri": "https://localhost:8080/"
        },
        "id": "H40api4gvmg1",
        "outputId": "9ae2a1d7-7079-4609-d66d-f80afdaaf079"
      },
      "execution_count": null,
      "outputs": [
        {
          "output_type": "execute_result",
          "data": {
            "text/plain": [
              "<html>\n",
              "<head>\n",
              "<style>\n",
              ".green{\n",
              "\tcolor:#55ff55;\n",
              "}\n",
              ".red{\n",
              "\tcolor:#ff5555;\n",
              "}\n",
              "#text{\n",
              "\twidth:50%;\n",
              "}\n",
              "</style>\n",
              "</head>\n",
              "<body>\n",
              "<h1>War and Peace</h1>\n",
              "<h2>Chapter 1</h2>\n",
              "<div id=\"text\">\n",
              "\"<span class=\"red\">Well, Prince, so Genoa and Lucca are now just family estates of the\n",
              "Buonapartes. But I warn you, if you don't tell me that this means war,\n",
              "if you still try to defend the infamies and horrors perpetrated by\n",
              "that Antichrist- I really believe he is Antichrist- I will have\n",
              "nothing more to do with you and you are no longer my friend, no longer\n",
              "my 'faithful slave,' as you call yourself! But how do you do? I see\n",
              "I have frightened you- sit down and tell me all the news.</span>\"\n",
              "<p></p>\n",
              "It was in July, 1805, and the speaker was the well-known <span class=\"green\">Anna\n",
              "Pavlovna Scherer</span>, maid of honor and favorite of the <span class=\"green\">Empress Marya\n",
              "Fedorovna</span>. With these words she greeted <span class=\"green\">Prince Vasili Kuragin</span>, a man\n",
              "of high rank and importance, who was the first to arrive at her\n",
              "reception. <span class=\"green\">Anna Pavlovna</span> had had a cough for some days. She was, as\n",
              "she said, suffering from la grippe; grippe being then a new word in\n",
              "<span class=\"green\">St. Petersburg</span>, used only by the elite.\n",
              "<p></p>\n",
              "All her invitations without exception, written in French, and\n",
              "delivered by a scarlet-liveried footman that morning, ran as follows:\n",
              "<p></p>\n",
              "\"<span class=\"red\">If you have nothing better to do, Count [or Prince], and if the\n",
              "prospect of spending an evening with a poor invalid is not too\n",
              "terrible, I shall be very charmed to see you tonight between 7 and 10-\n",
              "Annette Scherer.</span>\"\n",
              "<p></p>\n",
              "\"<span class=\"red\">Heavens! what a virulent attack!</span>\" replied <span class=\"green\">the prince</span>, not in the\n",
              "least disconcerted by this reception. He had just entered, wearing\n",
              "an embroidered court uniform, knee breeches, and shoes, and had\n",
              "stars on his breast and a serene expression on his flat face. He spoke\n",
              "in that refined French in which our grandfathers not only spoke but\n",
              "thought, and with the gentle, patronizing intonation natural to a\n",
              "man of importance who had grown old in society and at court. He went\n",
              "up to <span class=\"green\">Anna Pavlovna</span>, kissed her hand, presenting to her his bald,\n",
              "scented, and shining head, and complacently seated himself on the\n",
              "sofa.\n",
              "<p></p>\n",
              "\"<span class=\"red\">First of all, dear friend, tell me how you are. Set your friend's\n",
              "mind at rest,</span>\" said he without altering his tone, beneath the\n",
              "politeness and affected sympathy of which indifference and even\n",
              "irony could be discerned.\n",
              "<p></p>\n",
              "\"<span class=\"red\">Can one be well while suffering morally? Can one be calm in times\n",
              "like these if one has any feeling?</span>\" said <span class=\"green\">Anna Pavlovna</span>. \"<span class=\"red\">You are\n",
              "staying the whole evening, I hope?</span>\"\n",
              "<p></p>\n",
              "\"<span class=\"red\">And the fete at the English ambassador's? Today is Wednesday. I\n",
              "must put in an appearance there,</span>\" said <span class=\"green\">the prince</span>. \"<span class=\"red\">My daughter is\n",
              "coming for me to take me there.</span>\"\n",
              "<p></p>\n",
              "\"<span class=\"red\">I thought today's fete had been canceled. I confess all these\n",
              "festivities and fireworks are becoming wearisome.</span>\"\n",
              "<p></p>\n",
              "\"<span class=\"red\">If they had known that you wished it, the entertainment would\n",
              "have been put off,</span>\" said <span class=\"green\">the prince</span>, who, like a wound-up clock, by\n",
              "force of habit said things he did not even wish to be believed.\n",
              "<p></p>\n",
              "\"<span class=\"red\">Don't tease! Well, and what has been decided about Novosiltsev's\n",
              "dispatch? You know everything.</span>\"\n",
              "<p></p>\n",
              "\"<span class=\"red\">What can one say about it?</span>\" replied <span class=\"green\">the prince</span> in a cold,\n",
              "listless tone. \"<span class=\"red\">What has been decided? They have decided that\n",
              "Buonaparte has burnt his boats, and I believe that we are ready to\n",
              "burn ours.</span>\"\n",
              "<p></p>\n",
              "<span class=\"green\">Prince Vasili</span> always spoke languidly, like an actor repeating a\n",
              "stale part. <span class=\"green\">Anna Pavlovna</span> Scherer on the contrary, despite her forty\n",
              "years, overflowed with animation and impulsiveness. To be an\n",
              "enthusiast had become her social vocation and, sometimes even when she\n",
              "did not feel like it, she became enthusiastic in order not to\n",
              "disappoint the expectations of those who knew her. The subdued smile\n",
              "which, though it did not suit her faded features, always played\n",
              "round her lips expressed, as in a spoiled child, a continual\n",
              "consciousness of her charming defect, which she neither wished, nor\n",
              "could, nor considered it necessary, to correct.\n",
              "<p></p>\n",
              "In the midst of a conversation on political matters <span class=\"green\">Anna Pavlovna</span>\n",
              "burst out:\n",
              "<p></p>\n",
              "\"<span class=\"red\">Oh, don't speak to me of Austria. Perhaps I don't understand\n",
              "things, but Austria never has wished, and does not wish, for war.\n",
              "She is betraying us! Russia alone must save Europe. Our gracious\n",
              "sovereign recognizes his high vocation and will be true to it. That is\n",
              "the one thing I have faith in! Our good and wonderful sovereign has to\n",
              "perform the noblest role on earth, and he is so virtuous and noble\n",
              "that God will not forsake him. He will fulfill his vocation and\n",
              "crush the hydra of revolution, which has become more terrible than\n",
              "ever in the person of this murderer and villain! We alone must\n",
              "avenge the blood of the just one.... Whom, I ask you, can we rely\n",
              "on?... England with her commercial spirit will not and cannot\n",
              "understand the Emperor Alexander's loftiness of soul. She has\n",
              "refused to evacuate Malta. She wanted to find, and still seeks, some\n",
              "secret motive in our actions. What answer did Novosiltsev get? None.\n",
              "The English have not understood and cannot understand the\n",
              "self-abnegation of our Emperor who wants nothing for himself, but only\n",
              "desires the good of mankind. And what have they promised? Nothing! And\n",
              "what little they have promised they will not perform! Prussia has\n",
              "always declared that Buonaparte is invincible, and that all Europe\n",
              "is powerless before him.... And I don't believe a word that Hardenburg\n",
              "says, or Haugwitz either. This famous Prussian neutrality is just a\n",
              "trap. I have faith only in God and the lofty destiny of our adored\n",
              "monarch. He will save Europe!</span>\"\n",
              "<p></p>\n",
              "She suddenly paused, smiling at her own impetuosity.\n",
              "<p></p>\n",
              "\"<span class=\"red\">I think,</span>\" said <span class=\"green\">the prince</span> with a smile, \"<span class=\"red\">that if you had been\n",
              "sent instead of our dear <span class=\"green\">Wintzingerode</span> you would have captured the\n",
              "<span class=\"green\">King of Prussia</span>'s consent by assault. You are so eloquent. Will you\n",
              "give me a cup of tea?</span>\"\n",
              "<p></p>\n",
              "\"<span class=\"red\">In a moment. A propos,</span>\" she added, becoming calm again, \"<span class=\"red\">I am\n",
              "expecting two very interesting men tonight, <span class=\"green\">le Vicomte de Mortemart</span>,\n",
              "who is connected with the <span class=\"green\">Montmorencys</span> through the <span class=\"green\">Rohans</span>, one of\n",
              "the best French families. He is one of the genuine emigres, the good\n",
              "ones. And also the <span class=\"green\">Abbe Morio</span>. Do you know that profound thinker? He\n",
              "has been received by <span class=\"green\">the Emperor</span>. Had you heard?</span>\"\n",
              "<p></p>\n",
              "\"<span class=\"red\">I shall be delighted to meet them,</span>\" said <span class=\"green\">the prince</span>. \"<span class=\"red\">But tell me,</span>\"\n",
              "he added with studied carelessness as if it had only just occurred\n",
              "to him, though the question he was about to ask was the chief motive\n",
              "of his visit, \"<span class=\"red\">is it true that the Dowager Empress wants Baron Funke\n",
              "to be appointed first secretary at Vienna? The baron by all accounts\n",
              "is a poor creature.</span>\"\n",
              "<p></p>\n",
              "<span class=\"green\">Prince Vasili</span> wished to obtain this post for his son, but others\n",
              "were trying through the <span class=\"green\">Dowager Empress Marya Fedorovna</span> to secure it\n",
              "for <span class=\"green\">the baron</span>.\n",
              "<p></p>\n",
              "<span class=\"green\">Anna Pavlovna</span> almost closed her eyes to indicate that neither she\n",
              "nor anyone else had a right to criticize what <span class=\"green\">the Empress</span> desired or\n",
              "was pleased with.\n",
              "<p></p>\n",
              "\"<span class=\"red\">Baron Funke has been recommended to the Dowager Empress by her\n",
              "sister,</span>\" was all she said, in a dry and mournful tone.\n",
              "<p></p>\n",
              "As she named <span class=\"green\">the Empress</span>, <span class=\"green\">Anna Pavlovna's</span> face suddenly assumed an\n",
              "expression of profound and sincere devotion and respect mingled with\n",
              "sadness, and this occurred every time she mentioned her illustrious\n",
              "patroness. She added that <span class=\"green\">Her Majesty</span> had deigned to show <span class=\"green\">Baron\n",
              "Funke</span>, and again her face clouded over with sadness.\n",
              "<p></p>\n",
              "<span class=\"green\">The prince</span> was silent and looked indifferent. But, with the\n",
              "womanly and courtierlike quickness and tact habitual to her, <span class=\"green\">Anna\n",
              "Pavlovna</span> wished both to rebuke him (for daring to speak he had done of\n",
              "a man recommended to <span class=\"green\">the Empress</span>) and at the same time to console him,\n",
              "so she said:\n",
              "<p></p>\n",
              "\"<span class=\"red\">Now about your family. Do you know that since your daughter came\n",
              "out everyone has been enraptured by her? They say she is amazingly\n",
              "beautiful.</span>\"\n",
              "<p></p>\n",
              "<span class=\"green\">The prince</span> bowed to signify his respect and gratitude.\n",
              "<p></p>\n",
              "\"<span class=\"red\">I often think,</span>\" she continued after a short pause, drawing nearer\n",
              "to the prince and smiling amiably at him as if to show that\n",
              "political and social topics were ended and the time had come for\n",
              "intimate conversation- \"<span class=\"red\">I often think how unfairly sometimes the\n",
              "joys of life are distributed. Why has fate given you two such splendid\n",
              "children? I don't speak of <span class=\"green\">Anatole</span>, your youngest. I don't like\n",
              "him,</span>\" she added in a tone admitting of no rejoinder and raising her\n",
              "eyebrows. \"<span class=\"red\">Two such charming children. And really you appreciate\n",
              "them less than anyone, and so you don't deserve to have them.</span>\"\n",
              "<p></p>\n",
              "And she smiled her ecstatic smile.\n",
              "<p></p>\n",
              "\"<span class=\"red\">I can't help it,</span>\" said <span class=\"green\">the prince</span>. \"<span class=\"red\">Lavater would have said I\n",
              "lack the bump of paternity.</span>\"\n",
              "<p></p>\n",
              "\"<span class=\"red\">Don't joke; I mean to have a serious talk with you. Do you know I\n",
              "am dissatisfied with your younger son? Between ourselves</span>\" (and her\n",
              "face assumed its melancholy expression), \"<span class=\"red\">he was mentioned at Her\n",
              "Majesty's and you were pitied....</span>\"\n",
              "<p></p>\n",
              "<span class=\"green\">The prince</span> answered nothing, but she looked at him significantly,\n",
              "awaiting a reply. He frowned.\n",
              "<p></p>\n",
              "\"<span class=\"red\">What would you have me do?</span>\" he said at last. \"<span class=\"red\">You know I did all\n",
              "a father could for their education, and they have both turned out\n",
              "fools. Hippolyte is at least a quiet fool, but Anatole is an active\n",
              "one. That is the only difference between them.</span>\" He said this smiling\n",
              "in a way more natural and animated than usual, so that the wrinkles\n",
              "round his mouth very clearly revealed something unexpectedly coarse\n",
              "and unpleasant.\n",
              "<p></p>\n",
              "\"<span class=\"red\">And why are children born to such men as you? If you were not a\n",
              "father there would be nothing I could reproach you with,</span>\" said <span class=\"green\">Anna\n",
              "Pavlovna</span>, looking up pensively.\n",
              "<p></p>\n",
              "\"<span class=\"red\">I am your faithful slave and to you alone I can confess that my\n",
              "children are the bane of my life. It is the cross I have to bear. That\n",
              "is how I explain it to myself. It can't be helped!</span>\"\n",
              "<p></p>\n",
              "He said no more, but expressed his resignation to cruel fate by a\n",
              "gesture. <span class=\"green\">Anna Pavlovna</span> meditated.\n",
              "</div>\n",
              "</body>\n",
              "</html>"
            ]
          },
          "metadata": {},
          "execution_count": 6
        }
      ]
    },
    {
      "cell_type": "code",
      "source": [
        "# for line in task:\n",
        "#   print(line.text)"
      ],
      "metadata": {
        "id": "2Lbv78XywPt4"
      },
      "execution_count": null,
      "outputs": []
    },
    {
      "cell_type": "code",
      "source": [
        "extract=task.find_all('h1')\n",
        "print(\"This is extracting data of h1:\",extract)"
      ],
      "metadata": {
        "colab": {
          "base_uri": "https://localhost:8080/"
        },
        "id": "FsgUGfz1wwQ9",
        "outputId": "d3109fd8-807e-412f-f070-5204731a2f8f"
      },
      "execution_count": null,
      "outputs": [
        {
          "output_type": "stream",
          "name": "stdout",
          "text": [
            "this is extracting data of h1 and h2: [<h1>War and Peace</h1>]\n"
          ]
        }
      ]
    },
    {
      "cell_type": "code",
      "source": [
        "task.h1.text"
      ],
      "metadata": {
        "colab": {
          "base_uri": "https://localhost:8080/",
          "height": 35
        },
        "id": "vfhhYghxydF4",
        "outputId": "ab0a5b63-56e8-42c7-f57b-9cf446f7583d"
      },
      "execution_count": null,
      "outputs": [
        {
          "output_type": "execute_result",
          "data": {
            "application/vnd.google.colaboratory.intrinsic+json": {
              "type": "string"
            },
            "text/plain": [
              "'War and Peace'"
            ]
          },
          "metadata": {},
          "execution_count": 21
        }
      ]
    },
    {
      "cell_type": "code",
      "source": [
        "extract2=task.find_all('h2')\n",
        "print(\"this is extracting data of h2:\",extract2)"
      ],
      "metadata": {
        "colab": {
          "base_uri": "https://localhost:8080/"
        },
        "id": "TVneFnl0xzfk",
        "outputId": "0867a7b7-b36a-4fe4-8552-cbef47f93546"
      },
      "execution_count": null,
      "outputs": [
        {
          "output_type": "stream",
          "name": "stdout",
          "text": [
            "this is extracting data of h2: [<h2>Chapter 1</h2>]\n"
          ]
        }
      ]
    },
    {
      "cell_type": "code",
      "source": [
        "task.h2.text"
      ],
      "metadata": {
        "colab": {
          "base_uri": "https://localhost:8080/",
          "height": 35
        },
        "id": "2SWbsRUYyCuA",
        "outputId": "478c8986-0d75-4047-e207-df21605f3fe8"
      },
      "execution_count": null,
      "outputs": [
        {
          "output_type": "execute_result",
          "data": {
            "application/vnd.google.colaboratory.intrinsic+json": {
              "type": "string"
            },
            "text/plain": [
              "'Chapter 1'"
            ]
          },
          "metadata": {},
          "execution_count": 22
        }
      ]
    },
    {
      "cell_type": "code",
      "source": [
        "texts=task.find(\"div\",attrs={\"id\":\"text\"})\n",
        "print(\"please show  text:\",texts)"
      ],
      "metadata": {
        "colab": {
          "base_uri": "https://localhost:8080/"
        },
        "id": "iwVSvchOyaze",
        "outputId": "0d80c1e3-9ab7-4a7e-92f0-5c7a621ce641"
      },
      "execution_count": null,
      "outputs": [
        {
          "output_type": "stream",
          "name": "stdout",
          "text": [
            "please show  text: <div id=\"text\">\n",
            "\"<span class=\"red\">Well, Prince, so Genoa and Lucca are now just family estates of the\n",
            "Buonapartes. But I warn you, if you don't tell me that this means war,\n",
            "if you still try to defend the infamies and horrors perpetrated by\n",
            "that Antichrist- I really believe he is Antichrist- I will have\n",
            "nothing more to do with you and you are no longer my friend, no longer\n",
            "my 'faithful slave,' as you call yourself! But how do you do? I see\n",
            "I have frightened you- sit down and tell me all the news.</span>\"\n",
            "<p></p>\n",
            "It was in July, 1805, and the speaker was the well-known <span class=\"green\">Anna\n",
            "Pavlovna Scherer</span>, maid of honor and favorite of the <span class=\"green\">Empress Marya\n",
            "Fedorovna</span>. With these words she greeted <span class=\"green\">Prince Vasili Kuragin</span>, a man\n",
            "of high rank and importance, who was the first to arrive at her\n",
            "reception. <span class=\"green\">Anna Pavlovna</span> had had a cough for some days. She was, as\n",
            "she said, suffering from la grippe; grippe being then a new word in\n",
            "<span class=\"green\">St. Petersburg</span>, used only by the elite.\n",
            "<p></p>\n",
            "All her invitations without exception, written in French, and\n",
            "delivered by a scarlet-liveried footman that morning, ran as follows:\n",
            "<p></p>\n",
            "\"<span class=\"red\">If you have nothing better to do, Count [or Prince], and if the\n",
            "prospect of spending an evening with a poor invalid is not too\n",
            "terrible, I shall be very charmed to see you tonight between 7 and 10-\n",
            "Annette Scherer.</span>\"\n",
            "<p></p>\n",
            "\"<span class=\"red\">Heavens! what a virulent attack!</span>\" replied <span class=\"green\">the prince</span>, not in the\n",
            "least disconcerted by this reception. He had just entered, wearing\n",
            "an embroidered court uniform, knee breeches, and shoes, and had\n",
            "stars on his breast and a serene expression on his flat face. He spoke\n",
            "in that refined French in which our grandfathers not only spoke but\n",
            "thought, and with the gentle, patronizing intonation natural to a\n",
            "man of importance who had grown old in society and at court. He went\n",
            "up to <span class=\"green\">Anna Pavlovna</span>, kissed her hand, presenting to her his bald,\n",
            "scented, and shining head, and complacently seated himself on the\n",
            "sofa.\n",
            "<p></p>\n",
            "\"<span class=\"red\">First of all, dear friend, tell me how you are. Set your friend's\n",
            "mind at rest,</span>\" said he without altering his tone, beneath the\n",
            "politeness and affected sympathy of which indifference and even\n",
            "irony could be discerned.\n",
            "<p></p>\n",
            "\"<span class=\"red\">Can one be well while suffering morally? Can one be calm in times\n",
            "like these if one has any feeling?</span>\" said <span class=\"green\">Anna Pavlovna</span>. \"<span class=\"red\">You are\n",
            "staying the whole evening, I hope?</span>\"\n",
            "<p></p>\n",
            "\"<span class=\"red\">And the fete at the English ambassador's? Today is Wednesday. I\n",
            "must put in an appearance there,</span>\" said <span class=\"green\">the prince</span>. \"<span class=\"red\">My daughter is\n",
            "coming for me to take me there.</span>\"\n",
            "<p></p>\n",
            "\"<span class=\"red\">I thought today's fete had been canceled. I confess all these\n",
            "festivities and fireworks are becoming wearisome.</span>\"\n",
            "<p></p>\n",
            "\"<span class=\"red\">If they had known that you wished it, the entertainment would\n",
            "have been put off,</span>\" said <span class=\"green\">the prince</span>, who, like a wound-up clock, by\n",
            "force of habit said things he did not even wish to be believed.\n",
            "<p></p>\n",
            "\"<span class=\"red\">Don't tease! Well, and what has been decided about Novosiltsev's\n",
            "dispatch? You know everything.</span>\"\n",
            "<p></p>\n",
            "\"<span class=\"red\">What can one say about it?</span>\" replied <span class=\"green\">the prince</span> in a cold,\n",
            "listless tone. \"<span class=\"red\">What has been decided? They have decided that\n",
            "Buonaparte has burnt his boats, and I believe that we are ready to\n",
            "burn ours.</span>\"\n",
            "<p></p>\n",
            "<span class=\"green\">Prince Vasili</span> always spoke languidly, like an actor repeating a\n",
            "stale part. <span class=\"green\">Anna Pavlovna</span> Scherer on the contrary, despite her forty\n",
            "years, overflowed with animation and impulsiveness. To be an\n",
            "enthusiast had become her social vocation and, sometimes even when she\n",
            "did not feel like it, she became enthusiastic in order not to\n",
            "disappoint the expectations of those who knew her. The subdued smile\n",
            "which, though it did not suit her faded features, always played\n",
            "round her lips expressed, as in a spoiled child, a continual\n",
            "consciousness of her charming defect, which she neither wished, nor\n",
            "could, nor considered it necessary, to correct.\n",
            "<p></p>\n",
            "In the midst of a conversation on political matters <span class=\"green\">Anna Pavlovna</span>\n",
            "burst out:\n",
            "<p></p>\n",
            "\"<span class=\"red\">Oh, don't speak to me of Austria. Perhaps I don't understand\n",
            "things, but Austria never has wished, and does not wish, for war.\n",
            "She is betraying us! Russia alone must save Europe. Our gracious\n",
            "sovereign recognizes his high vocation and will be true to it. That is\n",
            "the one thing I have faith in! Our good and wonderful sovereign has to\n",
            "perform the noblest role on earth, and he is so virtuous and noble\n",
            "that God will not forsake him. He will fulfill his vocation and\n",
            "crush the hydra of revolution, which has become more terrible than\n",
            "ever in the person of this murderer and villain! We alone must\n",
            "avenge the blood of the just one.... Whom, I ask you, can we rely\n",
            "on?... England with her commercial spirit will not and cannot\n",
            "understand the Emperor Alexander's loftiness of soul. She has\n",
            "refused to evacuate Malta. She wanted to find, and still seeks, some\n",
            "secret motive in our actions. What answer did Novosiltsev get? None.\n",
            "The English have not understood and cannot understand the\n",
            "self-abnegation of our Emperor who wants nothing for himself, but only\n",
            "desires the good of mankind. And what have they promised? Nothing! And\n",
            "what little they have promised they will not perform! Prussia has\n",
            "always declared that Buonaparte is invincible, and that all Europe\n",
            "is powerless before him.... And I don't believe a word that Hardenburg\n",
            "says, or Haugwitz either. This famous Prussian neutrality is just a\n",
            "trap. I have faith only in God and the lofty destiny of our adored\n",
            "monarch. He will save Europe!</span>\"\n",
            "<p></p>\n",
            "She suddenly paused, smiling at her own impetuosity.\n",
            "<p></p>\n",
            "\"<span class=\"red\">I think,</span>\" said <span class=\"green\">the prince</span> with a smile, \"<span class=\"red\">that if you had been\n",
            "sent instead of our dear <span class=\"green\">Wintzingerode</span> you would have captured the\n",
            "<span class=\"green\">King of Prussia</span>'s consent by assault. You are so eloquent. Will you\n",
            "give me a cup of tea?</span>\"\n",
            "<p></p>\n",
            "\"<span class=\"red\">In a moment. A propos,</span>\" she added, becoming calm again, \"<span class=\"red\">I am\n",
            "expecting two very interesting men tonight, <span class=\"green\">le Vicomte de Mortemart</span>,\n",
            "who is connected with the <span class=\"green\">Montmorencys</span> through the <span class=\"green\">Rohans</span>, one of\n",
            "the best French families. He is one of the genuine emigres, the good\n",
            "ones. And also the <span class=\"green\">Abbe Morio</span>. Do you know that profound thinker? He\n",
            "has been received by <span class=\"green\">the Emperor</span>. Had you heard?</span>\"\n",
            "<p></p>\n",
            "\"<span class=\"red\">I shall be delighted to meet them,</span>\" said <span class=\"green\">the prince</span>. \"<span class=\"red\">But tell me,</span>\"\n",
            "he added with studied carelessness as if it had only just occurred\n",
            "to him, though the question he was about to ask was the chief motive\n",
            "of his visit, \"<span class=\"red\">is it true that the Dowager Empress wants Baron Funke\n",
            "to be appointed first secretary at Vienna? The baron by all accounts\n",
            "is a poor creature.</span>\"\n",
            "<p></p>\n",
            "<span class=\"green\">Prince Vasili</span> wished to obtain this post for his son, but others\n",
            "were trying through the <span class=\"green\">Dowager Empress Marya Fedorovna</span> to secure it\n",
            "for <span class=\"green\">the baron</span>.\n",
            "<p></p>\n",
            "<span class=\"green\">Anna Pavlovna</span> almost closed her eyes to indicate that neither she\n",
            "nor anyone else had a right to criticize what <span class=\"green\">the Empress</span> desired or\n",
            "was pleased with.\n",
            "<p></p>\n",
            "\"<span class=\"red\">Baron Funke has been recommended to the Dowager Empress by her\n",
            "sister,</span>\" was all she said, in a dry and mournful tone.\n",
            "<p></p>\n",
            "As she named <span class=\"green\">the Empress</span>, <span class=\"green\">Anna Pavlovna's</span> face suddenly assumed an\n",
            "expression of profound and sincere devotion and respect mingled with\n",
            "sadness, and this occurred every time she mentioned her illustrious\n",
            "patroness. She added that <span class=\"green\">Her Majesty</span> had deigned to show <span class=\"green\">Baron\n",
            "Funke</span>, and again her face clouded over with sadness.\n",
            "<p></p>\n",
            "<span class=\"green\">The prince</span> was silent and looked indifferent. But, with the\n",
            "womanly and courtierlike quickness and tact habitual to her, <span class=\"green\">Anna\n",
            "Pavlovna</span> wished both to rebuke him (for daring to speak he had done of\n",
            "a man recommended to <span class=\"green\">the Empress</span>) and at the same time to console him,\n",
            "so she said:\n",
            "<p></p>\n",
            "\"<span class=\"red\">Now about your family. Do you know that since your daughter came\n",
            "out everyone has been enraptured by her? They say she is amazingly\n",
            "beautiful.</span>\"\n",
            "<p></p>\n",
            "<span class=\"green\">The prince</span> bowed to signify his respect and gratitude.\n",
            "<p></p>\n",
            "\"<span class=\"red\">I often think,</span>\" she continued after a short pause, drawing nearer\n",
            "to the prince and smiling amiably at him as if to show that\n",
            "political and social topics were ended and the time had come for\n",
            "intimate conversation- \"<span class=\"red\">I often think how unfairly sometimes the\n",
            "joys of life are distributed. Why has fate given you two such splendid\n",
            "children? I don't speak of <span class=\"green\">Anatole</span>, your youngest. I don't like\n",
            "him,</span>\" she added in a tone admitting of no rejoinder and raising her\n",
            "eyebrows. \"<span class=\"red\">Two such charming children. And really you appreciate\n",
            "them less than anyone, and so you don't deserve to have them.</span>\"\n",
            "<p></p>\n",
            "And she smiled her ecstatic smile.\n",
            "<p></p>\n",
            "\"<span class=\"red\">I can't help it,</span>\" said <span class=\"green\">the prince</span>. \"<span class=\"red\">Lavater would have said I\n",
            "lack the bump of paternity.</span>\"\n",
            "<p></p>\n",
            "\"<span class=\"red\">Don't joke; I mean to have a serious talk with you. Do you know I\n",
            "am dissatisfied with your younger son? Between ourselves</span>\" (and her\n",
            "face assumed its melancholy expression), \"<span class=\"red\">he was mentioned at Her\n",
            "Majesty's and you were pitied....</span>\"\n",
            "<p></p>\n",
            "<span class=\"green\">The prince</span> answered nothing, but she looked at him significantly,\n",
            "awaiting a reply. He frowned.\n",
            "<p></p>\n",
            "\"<span class=\"red\">What would you have me do?</span>\" he said at last. \"<span class=\"red\">You know I did all\n",
            "a father could for their education, and they have both turned out\n",
            "fools. Hippolyte is at least a quiet fool, but Anatole is an active\n",
            "one. That is the only difference between them.</span>\" He said this smiling\n",
            "in a way more natural and animated than usual, so that the wrinkles\n",
            "round his mouth very clearly revealed something unexpectedly coarse\n",
            "and unpleasant.\n",
            "<p></p>\n",
            "\"<span class=\"red\">And why are children born to such men as you? If you were not a\n",
            "father there would be nothing I could reproach you with,</span>\" said <span class=\"green\">Anna\n",
            "Pavlovna</span>, looking up pensively.\n",
            "<p></p>\n",
            "\"<span class=\"red\">I am your faithful slave and to you alone I can confess that my\n",
            "children are the bane of my life. It is the cross I have to bear. That\n",
            "is how I explain it to myself. It can't be helped!</span>\"\n",
            "<p></p>\n",
            "He said no more, but expressed his resignation to cruel fate by a\n",
            "gesture. <span class=\"green\">Anna Pavlovna</span> meditated.\n",
            "</div>\n"
          ]
        }
      ]
    },
    {
      "cell_type": "code",
      "source": [
        "for i in texts:\n",
        "  print(i.get_text())"
      ],
      "metadata": {
        "colab": {
          "base_uri": "https://localhost:8080/",
          "height": 304
        },
        "id": "EL2nJN3a7N8_",
        "outputId": "68f19c23-d44f-4f58-a700-1a753dbd15a1"
      },
      "execution_count": null,
      "outputs": [
        {
          "output_type": "error",
          "ename": "AttributeError",
          "evalue": "ignored",
          "traceback": [
            "\u001b[0;31m---------------------------------------------------------------------------\u001b[0m",
            "\u001b[0;31mAttributeError\u001b[0m                            Traceback (most recent call last)",
            "\u001b[0;32m<ipython-input-66-e8b847219f05>\u001b[0m in \u001b[0;36m<module>\u001b[0;34m()\u001b[0m\n\u001b[1;32m      1\u001b[0m \u001b[0;32mfor\u001b[0m \u001b[0mi\u001b[0m \u001b[0;32min\u001b[0m \u001b[0mtexts\u001b[0m\u001b[0;34m:\u001b[0m\u001b[0;34m\u001b[0m\u001b[0;34m\u001b[0m\u001b[0m\n\u001b[0;32m----> 2\u001b[0;31m   \u001b[0mprint\u001b[0m\u001b[0;34m(\u001b[0m\u001b[0mi\u001b[0m\u001b[0;34m.\u001b[0m\u001b[0mget_text\u001b[0m\u001b[0;34m(\u001b[0m\u001b[0;34m)\u001b[0m\u001b[0;34m)\u001b[0m\u001b[0;34m\u001b[0m\u001b[0;34m\u001b[0m\u001b[0m\n\u001b[0m",
            "\u001b[0;32m/usr/local/lib/python3.7/dist-packages/bs4/element.py\u001b[0m in \u001b[0;36m__getattr__\u001b[0;34m(self, attr)\u001b[0m\n\u001b[1;32m    795\u001b[0m             raise AttributeError(\n\u001b[1;32m    796\u001b[0m                 \"'%s' object has no attribute '%s'\" % (\n\u001b[0;32m--> 797\u001b[0;31m                     self.__class__.__name__, attr))\n\u001b[0m\u001b[1;32m    798\u001b[0m \u001b[0;34m\u001b[0m\u001b[0m\n\u001b[1;32m    799\u001b[0m     \u001b[0;32mdef\u001b[0m \u001b[0moutput_ready\u001b[0m\u001b[0;34m(\u001b[0m\u001b[0mself\u001b[0m\u001b[0;34m,\u001b[0m \u001b[0mformatter\u001b[0m\u001b[0;34m=\u001b[0m\u001b[0;34m\"minimal\"\u001b[0m\u001b[0;34m)\u001b[0m\u001b[0;34m:\u001b[0m\u001b[0;34m\u001b[0m\u001b[0;34m\u001b[0m\u001b[0m\n",
            "\u001b[0;31mAttributeError\u001b[0m: 'NavigableString' object has no attribute 'get_text'"
          ]
        }
      ]
    },
    {
      "cell_type": "code",
      "source": [
        "texts.span.text"
      ],
      "metadata": {
        "colab": {
          "base_uri": "https://localhost:8080/",
          "height": 88
        },
        "id": "VMb0LW9I3VRy",
        "outputId": "0522d29d-c66c-446f-eab6-67816989ff68"
      },
      "execution_count": null,
      "outputs": [
        {
          "output_type": "execute_result",
          "data": {
            "application/vnd.google.colaboratory.intrinsic+json": {
              "type": "string"
            },
            "text/plain": [
              "\"Well, Prince, so Genoa and Lucca are now just family estates of the\\nBuonapartes. But I warn you, if you don't tell me that this means war,\\nif you still try to defend the infamies and horrors perpetrated by\\nthat Antichrist- I really believe he is Antichrist- I will have\\nnothing more to do with you and you are no longer my friend, no longer\\nmy 'faithful slave,' as you call yourself! But how do you do? I see\\nI have frightened you- sit down and tell me all the news.\""
            ]
          },
          "metadata": {},
          "execution_count": 47
        }
      ]
    },
    {
      "cell_type": "markdown",
      "source": [
        "RED COLOR:**TEXT** \n",
        "\n",
        "---\n",
        "\n"
      ],
      "metadata": {
        "id": "sEgzb2Za59HG"
      }
    },
    {
      "cell_type": "code",
      "source": [
        "red_color=task.find(\"span\",attrs={\"class\":\"red\"})\n",
        "print(\" This is a texs which is in red color:\",red_color)"
      ],
      "metadata": {
        "colab": {
          "base_uri": "https://localhost:8080/"
        },
        "id": "FhPr7PO4zxrh",
        "outputId": "a1a4526e-54a7-43e1-9bc0-a7fe8be1bebb"
      },
      "execution_count": null,
      "outputs": [
        {
          "output_type": "stream",
          "name": "stdout",
          "text": [
            " This is a texs which is in red color: <span class=\"red\">Well, Prince, so Genoa and Lucca are now just family estates of the\n",
            "Buonapartes. But I warn you, if you don't tell me that this means war,\n",
            "if you still try to defend the infamies and horrors perpetrated by\n",
            "that Antichrist- I really believe he is Antichrist- I will have\n",
            "nothing more to do with you and you are no longer my friend, no longer\n",
            "my 'faithful slave,' as you call yourself! But how do you do? I see\n",
            "I have frightened you- sit down and tell me all the news.</span>\n"
          ]
        }
      ]
    },
    {
      "cell_type": "code",
      "source": [
        "# for i in red_color:\n",
        "#   print(i.get_text())\n",
        "# why it is not working????"
      ],
      "metadata": {
        "id": "_l-UUCZL20gH"
      },
      "execution_count": null,
      "outputs": []
    },
    {
      "cell_type": "markdown",
      "source": [
        "GREEN COLOR:**TEXT** \n",
        "\n",
        "---\n",
        "\n"
      ],
      "metadata": {
        "id": "cywavLSq6ONl"
      }
    },
    {
      "cell_type": "code",
      "source": [
        "green_color=texts.find_all(\"span\",attrs={\"class\":\"green\"})\n",
        "print(\"This is letter which is in green color:\",green_color)"
      ],
      "metadata": {
        "colab": {
          "base_uri": "https://localhost:8080/"
        },
        "id": "B20qHxOd32BJ",
        "outputId": "89915848-72e4-4187-f47b-c884bd21d347"
      },
      "execution_count": null,
      "outputs": [
        {
          "output_type": "stream",
          "name": "stdout",
          "text": [
            "This is letter which is in green color: [<span class=\"green\">Anna\n",
            "Pavlovna Scherer</span>, <span class=\"green\">Empress Marya\n",
            "Fedorovna</span>, <span class=\"green\">Prince Vasili Kuragin</span>, <span class=\"green\">Anna Pavlovna</span>, <span class=\"green\">St. Petersburg</span>, <span class=\"green\">the prince</span>, <span class=\"green\">Anna Pavlovna</span>, <span class=\"green\">Anna Pavlovna</span>, <span class=\"green\">the prince</span>, <span class=\"green\">the prince</span>, <span class=\"green\">the prince</span>, <span class=\"green\">Prince Vasili</span>, <span class=\"green\">Anna Pavlovna</span>, <span class=\"green\">Anna Pavlovna</span>, <span class=\"green\">the prince</span>, <span class=\"green\">Wintzingerode</span>, <span class=\"green\">King of Prussia</span>, <span class=\"green\">le Vicomte de Mortemart</span>, <span class=\"green\">Montmorencys</span>, <span class=\"green\">Rohans</span>, <span class=\"green\">Abbe Morio</span>, <span class=\"green\">the Emperor</span>, <span class=\"green\">the prince</span>, <span class=\"green\">Prince Vasili</span>, <span class=\"green\">Dowager Empress Marya Fedorovna</span>, <span class=\"green\">the baron</span>, <span class=\"green\">Anna Pavlovna</span>, <span class=\"green\">the Empress</span>, <span class=\"green\">the Empress</span>, <span class=\"green\">Anna Pavlovna's</span>, <span class=\"green\">Her Majesty</span>, <span class=\"green\">Baron\n",
            "Funke</span>, <span class=\"green\">The prince</span>, <span class=\"green\">Anna\n",
            "Pavlovna</span>, <span class=\"green\">the Empress</span>, <span class=\"green\">The prince</span>, <span class=\"green\">Anatole</span>, <span class=\"green\">the prince</span>, <span class=\"green\">The prince</span>, <span class=\"green\">Anna\n",
            "Pavlovna</span>, <span class=\"green\">Anna Pavlovna</span>]\n"
          ]
        }
      ]
    },
    {
      "cell_type": "code",
      "source": [
        "for i in green_color:\n",
        "  print(i.get_text())"
      ],
      "metadata": {
        "colab": {
          "base_uri": "https://localhost:8080/"
        },
        "id": "ZGf9ODWo44XM",
        "outputId": "cb6491ea-2d23-4a06-d363-f8318d484045"
      },
      "execution_count": null,
      "outputs": [
        {
          "output_type": "stream",
          "name": "stdout",
          "text": [
            "Anna\n",
            "Pavlovna Scherer\n",
            "Empress Marya\n",
            "Fedorovna\n",
            "Prince Vasili Kuragin\n",
            "Anna Pavlovna\n",
            "St. Petersburg\n",
            "the prince\n",
            "Anna Pavlovna\n",
            "Anna Pavlovna\n",
            "the prince\n",
            "the prince\n",
            "the prince\n",
            "Prince Vasili\n",
            "Anna Pavlovna\n",
            "Anna Pavlovna\n",
            "the prince\n",
            "Wintzingerode\n",
            "King of Prussia\n",
            "le Vicomte de Mortemart\n",
            "Montmorencys\n",
            "Rohans\n",
            "Abbe Morio\n",
            "the Emperor\n",
            "the prince\n",
            "Prince Vasili\n",
            "Dowager Empress Marya Fedorovna\n",
            "the baron\n",
            "Anna Pavlovna\n",
            "the Empress\n",
            "the Empress\n",
            "Anna Pavlovna's\n",
            "Her Majesty\n",
            "Baron\n",
            "Funke\n",
            "The prince\n",
            "Anna\n",
            "Pavlovna\n",
            "the Empress\n",
            "The prince\n",
            "Anatole\n",
            "the prince\n",
            "The prince\n",
            "Anna\n",
            "Pavlovna\n",
            "Anna Pavlovna\n"
          ]
        }
      ]
    },
    {
      "cell_type": "code",
      "source": [
        "for i in green_color:\n",
        "  print(i.getText())"
      ],
      "metadata": {
        "colab": {
          "base_uri": "https://localhost:8080/"
        },
        "id": "pSiy-T9u6xAX",
        "outputId": "362037af-0117-4d6c-bf71-dd02f692e8c0"
      },
      "execution_count": null,
      "outputs": [
        {
          "output_type": "stream",
          "name": "stdout",
          "text": [
            "Anna\n",
            "Pavlovna Scherer\n",
            "Empress Marya\n",
            "Fedorovna\n",
            "Prince Vasili Kuragin\n",
            "Anna Pavlovna\n",
            "St. Petersburg\n",
            "the prince\n",
            "Anna Pavlovna\n",
            "Anna Pavlovna\n",
            "the prince\n",
            "the prince\n",
            "the prince\n",
            "Prince Vasili\n",
            "Anna Pavlovna\n",
            "Anna Pavlovna\n",
            "the prince\n",
            "Wintzingerode\n",
            "King of Prussia\n",
            "le Vicomte de Mortemart\n",
            "Montmorencys\n",
            "Rohans\n",
            "Abbe Morio\n",
            "the Emperor\n",
            "the prince\n",
            "Prince Vasili\n",
            "Dowager Empress Marya Fedorovna\n",
            "the baron\n",
            "Anna Pavlovna\n",
            "the Empress\n",
            "the Empress\n",
            "Anna Pavlovna's\n",
            "Her Majesty\n",
            "Baron\n",
            "Funke\n",
            "The prince\n",
            "Anna\n",
            "Pavlovna\n",
            "the Empress\n",
            "The prince\n",
            "Anatole\n",
            "the prince\n",
            "The prince\n",
            "Anna\n",
            "Pavlovna\n",
            "Anna Pavlovna\n"
          ]
        }
      ]
    }
  ]
}