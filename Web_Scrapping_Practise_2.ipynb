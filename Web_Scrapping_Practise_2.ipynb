{
  "nbformat": 4,
  "nbformat_minor": 0,
  "metadata": {
    "colab": {
      "name": "Web Scrapping Practise 2",
      "provenance": [],
      "collapsed_sections": []
    },
    "kernelspec": {
      "name": "python3",
      "display_name": "Python 3"
    },
    "language_info": {
      "name": "python"
    }
  },
  "cells": [
    {
      "cell_type": "code",
      "execution_count": null,
      "metadata": {
        "id": "SS0DnWg23hsi"
      },
      "outputs": [],
      "source": [
        "import requests\n",
        "from bs4 import BeautifulSoup\n",
        "assign=\"https://www.pythonscraping.com/pages/page3.html\"\n"
      ]
    },
    {
      "cell_type": "code",
      "source": [
        "response=requests.get(assign)\n",
        "response"
      ],
      "metadata": {
        "colab": {
          "base_uri": "https://localhost:8080/"
        },
        "id": "47szxOu44INX",
        "outputId": "75a7ba37-4323-4a48-dd8d-731dfc7ea030"
      },
      "execution_count": null,
      "outputs": [
        {
          "output_type": "execute_result",
          "data": {
            "text/plain": [
              "<Response [200]>"
            ]
          },
          "metadata": {},
          "execution_count": 43
        }
      ]
    },
    {
      "cell_type": "code",
      "source": [
        "soup=BeautifulSoup(assign.text,\"html.parser\")\n",
        "soup"
      ],
      "metadata": {
        "colab": {
          "base_uri": "https://localhost:8080/",
          "height": 182
        },
        "id": "qz8Pb2e44xOz",
        "outputId": "64dc4309-a375-41c6-d2b4-dfbede06c8ea"
      },
      "execution_count": null,
      "outputs": [
        {
          "output_type": "error",
          "ename": "AttributeError",
          "evalue": "ignored",
          "traceback": [
            "\u001b[0;31m---------------------------------------------------------------------------\u001b[0m",
            "\u001b[0;31mAttributeError\u001b[0m                            Traceback (most recent call last)",
            "\u001b[0;32m<ipython-input-44-2bd99b0ae19e>\u001b[0m in \u001b[0;36m<module>\u001b[0;34m()\u001b[0m\n\u001b[0;32m----> 1\u001b[0;31m \u001b[0msoup\u001b[0m\u001b[0;34m=\u001b[0m\u001b[0mBeautifulSoup\u001b[0m\u001b[0;34m(\u001b[0m\u001b[0massign\u001b[0m\u001b[0;34m.\u001b[0m\u001b[0mtext\u001b[0m\u001b[0;34m,\u001b[0m\u001b[0;34m\"html.parser\"\u001b[0m\u001b[0;34m)\u001b[0m\u001b[0;34m\u001b[0m\u001b[0;34m\u001b[0m\u001b[0m\n\u001b[0m\u001b[1;32m      2\u001b[0m \u001b[0msoup\u001b[0m\u001b[0;34m\u001b[0m\u001b[0;34m\u001b[0m\u001b[0m\n",
            "\u001b[0;31mAttributeError\u001b[0m: 'str' object has no attribute 'text'"
          ]
        }
      ]
    },
    {
      "cell_type": "code",
      "source": [
        "data=soup.find(\"table)\n",
        "data"
      ],
      "metadata": {
        "colab": {
          "base_uri": "https://localhost:8080/"
        },
        "id": "clRrurYO6JKn",
        "outputId": "a518c665-2aa9-4628-967d-65149b772248"
      },
      "execution_count": null,
      "outputs": [
        {
          "output_type": "execute_result",
          "data": {
            "text/plain": [
              "<table id=\"giftList\">\n",
              "<tr><th>\n",
              "Item Title\n",
              "</th><th>\n",
              "Description\n",
              "</th><th>\n",
              "Cost\n",
              "</th><th>\n",
              "Image\n",
              "</th></tr>\n",
              "<tr class=\"gift\" id=\"gift1\"><td>\n",
              "Vegetable Basket\n",
              "</td><td>\n",
              "This vegetable basket is the perfect gift for your health conscious (or overweight) friends!\n",
              "<span class=\"excitingNote\">Now with super-colorful bell peppers!</span>\n",
              "</td><td>\n",
              "$15.00\n",
              "</td><td>\n",
              "<img src=\"../img/gifts/img1.jpg\"/>\n",
              "</td></tr>\n",
              "<tr class=\"gift\" id=\"gift2\"><td>\n",
              "Russian Nesting Dolls\n",
              "</td><td>\n",
              "Hand-painted by trained monkeys, these exquisite dolls are priceless! And by \"priceless,\" we mean \"extremely expensive\"! <span class=\"excitingNote\">8 entire dolls per set! Octuple the presents!</span>\n",
              "</td><td>\n",
              "$10,000.52\n",
              "</td><td>\n",
              "<img src=\"../img/gifts/img2.jpg\"/>\n",
              "</td></tr>\n",
              "<tr class=\"gift\" id=\"gift3\"><td>\n",
              "Fish Painting\n",
              "</td><td>\n",
              "If something seems fishy about this painting, it's because it's a fish! <span class=\"excitingNote\">Also hand-painted by trained monkeys!</span>\n",
              "</td><td>\n",
              "$10,005.00\n",
              "</td><td>\n",
              "<img src=\"../img/gifts/img3.jpg\"/>\n",
              "</td></tr>\n",
              "<tr class=\"gift\" id=\"gift4\"><td>\n",
              "Dead Parrot\n",
              "</td><td>\n",
              "This is an ex-parrot! <span class=\"excitingNote\">Or maybe he's only resting?</span>\n",
              "</td><td>\n",
              "$0.50\n",
              "</td><td>\n",
              "<img src=\"../img/gifts/img4.jpg\"/>\n",
              "</td></tr>\n",
              "<tr class=\"gift\" id=\"gift5\"><td>\n",
              "Mystery Box\n",
              "</td><td>\n",
              "If you love suprises, this mystery box is for you! Do not place on light-colored surfaces. May cause oil staining. <span class=\"excitingNote\">Keep your friends guessing!</span>\n",
              "</td><td>\n",
              "$1.50\n",
              "</td><td>\n",
              "<img src=\"../img/gifts/img6.jpg\"/>\n",
              "</td></tr>\n",
              "</table>"
            ]
          },
          "metadata": {},
          "execution_count": 22
        }
      ]
    },
    {
      "cell_type": "code",
      "source": [
        "list(data.children)"
      ],
      "metadata": {
        "colab": {
          "base_uri": "https://localhost:8080/"
        },
        "id": "rXfw4RIY60OP",
        "outputId": "d226fe52-d1aa-4926-8d0d-761d6cc88406"
      },
      "execution_count": null,
      "outputs": [
        {
          "output_type": "execute_result",
          "data": {
            "text/plain": [
              "['\\n', <tr><th>\n",
              " Item Title\n",
              " </th><th>\n",
              " Description\n",
              " </th><th>\n",
              " Cost\n",
              " </th><th>\n",
              " Image\n",
              " </th></tr>, '\\n', <tr class=\"gift\" id=\"gift1\"><td>\n",
              " Vegetable Basket\n",
              " </td><td>\n",
              " This vegetable basket is the perfect gift for your health conscious (or overweight) friends!\n",
              " <span class=\"excitingNote\">Now with super-colorful bell peppers!</span>\n",
              " </td><td>\n",
              " $15.00\n",
              " </td><td>\n",
              " <img src=\"../img/gifts/img1.jpg\"/>\n",
              " </td></tr>, '\\n', <tr class=\"gift\" id=\"gift2\"><td>\n",
              " Russian Nesting Dolls\n",
              " </td><td>\n",
              " Hand-painted by trained monkeys, these exquisite dolls are priceless! And by \"priceless,\" we mean \"extremely expensive\"! <span class=\"excitingNote\">8 entire dolls per set! Octuple the presents!</span>\n",
              " </td><td>\n",
              " $10,000.52\n",
              " </td><td>\n",
              " <img src=\"../img/gifts/img2.jpg\"/>\n",
              " </td></tr>, '\\n', <tr class=\"gift\" id=\"gift3\"><td>\n",
              " Fish Painting\n",
              " </td><td>\n",
              " If something seems fishy about this painting, it's because it's a fish! <span class=\"excitingNote\">Also hand-painted by trained monkeys!</span>\n",
              " </td><td>\n",
              " $10,005.00\n",
              " </td><td>\n",
              " <img src=\"../img/gifts/img3.jpg\"/>\n",
              " </td></tr>, '\\n', <tr class=\"gift\" id=\"gift4\"><td>\n",
              " Dead Parrot\n",
              " </td><td>\n",
              " This is an ex-parrot! <span class=\"excitingNote\">Or maybe he's only resting?</span>\n",
              " </td><td>\n",
              " $0.50\n",
              " </td><td>\n",
              " <img src=\"../img/gifts/img4.jpg\"/>\n",
              " </td></tr>, '\\n', <tr class=\"gift\" id=\"gift5\"><td>\n",
              " Mystery Box\n",
              " </td><td>\n",
              " If you love suprises, this mystery box is for you! Do not place on light-colored surfaces. May cause oil staining. <span class=\"excitingNote\">Keep your friends guessing!</span>\n",
              " </td><td>\n",
              " $1.50\n",
              " </td><td>\n",
              " <img src=\"../img/gifts/img6.jpg\"/>\n",
              " </td></tr>, '\\n']"
            ]
          },
          "metadata": {},
          "execution_count": 23
        }
      ]
    },
    {
      "cell_type": "code",
      "source": [
        "master=[]\n",
        "for row in data.children:\n",
        "  if(row!='\\n'):\n",
        "    tds=row.find_all('td')\n",
        "    \n",
        "    d={}\n",
        "    if tds:\n",
        "      d['item_table']=tds[0].text\n",
        "      d['description']=tds[1].text\n",
        "      d['cost']=tds[2].text\n",
        "      d['link']=tds[3].img['src']\n",
        "      master.append(d)\n",
        "\n",
        "    \n",
        "  "
      ],
      "metadata": {
        "id": "5HwxGgdx64TD"
      },
      "execution_count": null,
      "outputs": []
    },
    {
      "cell_type": "code",
      "source": [
        "master"
      ],
      "metadata": {
        "colab": {
          "base_uri": "https://localhost:8080/"
        },
        "id": "VB0cgXnA96Rv",
        "outputId": "b044fb41-9313-435b-b6ac-4db7197296ec"
      },
      "execution_count": null,
      "outputs": [
        {
          "output_type": "execute_result",
          "data": {
            "text/plain": [
              "[{'cost': '\\n$15.00\\n',\n",
              "  'description': '\\nThis vegetable basket is the perfect gift for your health conscious (or overweight) friends!\\nNow with super-colorful bell peppers!\\n',\n",
              "  'item_table': '\\nVegetable Basket\\n',\n",
              "  'link': '../img/gifts/img1.jpg'},\n",
              " {'cost': '\\n$10,000.52\\n',\n",
              "  'description': '\\nHand-painted by trained monkeys, these exquisite dolls are priceless! And by \"priceless,\" we mean \"extremely expensive\"! 8 entire dolls per set! Octuple the presents!\\n',\n",
              "  'item_table': '\\nRussian Nesting Dolls\\n',\n",
              "  'link': '../img/gifts/img2.jpg'},\n",
              " {'cost': '\\n$10,005.00\\n',\n",
              "  'description': \"\\nIf something seems fishy about this painting, it's because it's a fish! Also hand-painted by trained monkeys!\\n\",\n",
              "  'item_table': '\\nFish Painting\\n',\n",
              "  'link': '../img/gifts/img3.jpg'},\n",
              " {'cost': '\\n$0.50\\n',\n",
              "  'description': \"\\nThis is an ex-parrot! Or maybe he's only resting?\\n\",\n",
              "  'item_table': '\\nDead Parrot\\n',\n",
              "  'link': '../img/gifts/img4.jpg'},\n",
              " {'cost': '\\n$1.50\\n',\n",
              "  'description': '\\nIf you love suprises, this mystery box is for you! Do not place on light-colored surfaces. May cause oil staining. Keep your friends guessing!\\n',\n",
              "  'item_table': '\\nMystery Box\\n',\n",
              "  'link': '../img/gifts/img6.jpg'}]"
            ]
          },
          "metadata": {},
          "execution_count": 42
        }
      ]
    },
    {
      "cell_type": "code",
      "source": [
        ""
      ],
      "metadata": {
        "id": "S3lWmuK7_Bje"
      },
      "execution_count": null,
      "outputs": []
    }
  ]
}